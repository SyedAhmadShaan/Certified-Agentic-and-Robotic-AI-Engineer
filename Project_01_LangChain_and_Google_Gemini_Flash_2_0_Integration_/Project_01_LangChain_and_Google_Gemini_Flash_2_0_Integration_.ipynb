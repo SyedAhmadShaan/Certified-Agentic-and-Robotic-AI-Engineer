{
  "nbformat": 4,
  "nbformat_minor": 0,
  "metadata": {
    "colab": {
      "provenance": []
    },
    "kernelspec": {
      "name": "python3",
      "display_name": "Python 3"
    },
    "language_info": {
      "name": "python"
    }
  },
  "cells": [
    {
      "cell_type": "markdown",
      "source": [
        "# **Project 01: In this Project, we will create a simple LangChain Colab Notebook that uses the Google Gemini Flash 2.0 model to answer user questions.**"
      ],
      "metadata": {
        "id": "aSpn2KSerLRa"
      }
    },
    {
      "cell_type": "markdown",
      "source": [
        "### **Step 1: Download and install the langchain-google-genai package**\n",
        "\n"
      ],
      "metadata": {
        "id": "Lbo8kQeglNX_"
      }
    },
    {
      "cell_type": "markdown",
      "source": [
        "This package is necessary to use Google's AI models with the LangChain frame."
      ],
      "metadata": {
        "id": "GJZj2cr8sD-q"
      }
    },
    {
      "cell_type": "code",
      "source": [
        "!pip install -U langchain-google-genai"
      ],
      "metadata": {
        "colab": {
          "base_uri": "https://localhost:8080/"
        },
        "id": "yb-SkfEcQTM6",
        "outputId": "e44feea5-ddc3-44e3-bb82-a85980f5c3fa"
      },
      "execution_count": 41,
      "outputs": [
        {
          "output_type": "stream",
          "name": "stdout",
          "text": [
            "Requirement already satisfied: langchain-google-genai in /usr/local/lib/python3.10/dist-packages (2.0.7)\n",
            "Requirement already satisfied: filetype<2.0.0,>=1.2.0 in /usr/local/lib/python3.10/dist-packages (from langchain-google-genai) (1.2.0)\n",
            "Requirement already satisfied: google-generativeai<0.9.0,>=0.8.0 in /usr/local/lib/python3.10/dist-packages (from langchain-google-genai) (0.8.3)\n",
            "Requirement already satisfied: langchain-core<0.4,>=0.3.15 in /usr/local/lib/python3.10/dist-packages (from langchain-google-genai) (0.3.28)\n",
            "Requirement already satisfied: pydantic<3,>=2 in /usr/local/lib/python3.10/dist-packages (from langchain-google-genai) (2.9.2)\n",
            "Requirement already satisfied: google-ai-generativelanguage==0.6.10 in /usr/local/lib/python3.10/dist-packages (from google-generativeai<0.9.0,>=0.8.0->langchain-google-genai) (0.6.10)\n",
            "Requirement already satisfied: google-api-core in /usr/local/lib/python3.10/dist-packages (from google-generativeai<0.9.0,>=0.8.0->langchain-google-genai) (2.19.2)\n",
            "Requirement already satisfied: google-api-python-client in /usr/local/lib/python3.10/dist-packages (from google-generativeai<0.9.0,>=0.8.0->langchain-google-genai) (2.155.0)\n",
            "Requirement already satisfied: google-auth>=2.15.0 in /usr/local/lib/python3.10/dist-packages (from google-generativeai<0.9.0,>=0.8.0->langchain-google-genai) (2.27.0)\n",
            "Requirement already satisfied: protobuf in /usr/local/lib/python3.10/dist-packages (from google-generativeai<0.9.0,>=0.8.0->langchain-google-genai) (4.25.5)\n",
            "Requirement already satisfied: tqdm in /usr/local/lib/python3.10/dist-packages (from google-generativeai<0.9.0,>=0.8.0->langchain-google-genai) (4.67.1)\n",
            "Requirement already satisfied: typing-extensions in /usr/local/lib/python3.10/dist-packages (from google-generativeai<0.9.0,>=0.8.0->langchain-google-genai) (4.12.2)\n",
            "Requirement already satisfied: proto-plus<2.0.0dev,>=1.22.3 in /usr/local/lib/python3.10/dist-packages (from google-ai-generativelanguage==0.6.10->google-generativeai<0.9.0,>=0.8.0->langchain-google-genai) (1.25.0)\n",
            "Requirement already satisfied: PyYAML>=5.3 in /usr/local/lib/python3.10/dist-packages (from langchain-core<0.4,>=0.3.15->langchain-google-genai) (6.0.2)\n",
            "Requirement already satisfied: jsonpatch<2.0,>=1.33 in /usr/local/lib/python3.10/dist-packages (from langchain-core<0.4,>=0.3.15->langchain-google-genai) (1.33)\n",
            "Requirement already satisfied: langsmith<0.3,>=0.1.125 in /usr/local/lib/python3.10/dist-packages (from langchain-core<0.4,>=0.3.15->langchain-google-genai) (0.2.3)\n",
            "Requirement already satisfied: packaging<25,>=23.2 in /usr/local/lib/python3.10/dist-packages (from langchain-core<0.4,>=0.3.15->langchain-google-genai) (24.2)\n",
            "Requirement already satisfied: tenacity!=8.4.0,<10.0.0,>=8.1.0 in /usr/local/lib/python3.10/dist-packages (from langchain-core<0.4,>=0.3.15->langchain-google-genai) (9.0.0)\n",
            "Requirement already satisfied: annotated-types>=0.6.0 in /usr/local/lib/python3.10/dist-packages (from pydantic<3,>=2->langchain-google-genai) (0.7.0)\n",
            "Requirement already satisfied: pydantic-core==2.23.4 in /usr/local/lib/python3.10/dist-packages (from pydantic<3,>=2->langchain-google-genai) (2.23.4)\n",
            "Requirement already satisfied: googleapis-common-protos<2.0.dev0,>=1.56.2 in /usr/local/lib/python3.10/dist-packages (from google-api-core->google-generativeai<0.9.0,>=0.8.0->langchain-google-genai) (1.66.0)\n",
            "Requirement already satisfied: requests<3.0.0.dev0,>=2.18.0 in /usr/local/lib/python3.10/dist-packages (from google-api-core->google-generativeai<0.9.0,>=0.8.0->langchain-google-genai) (2.32.3)\n",
            "Requirement already satisfied: cachetools<6.0,>=2.0.0 in /usr/local/lib/python3.10/dist-packages (from google-auth>=2.15.0->google-generativeai<0.9.0,>=0.8.0->langchain-google-genai) (5.5.0)\n",
            "Requirement already satisfied: pyasn1-modules>=0.2.1 in /usr/local/lib/python3.10/dist-packages (from google-auth>=2.15.0->google-generativeai<0.9.0,>=0.8.0->langchain-google-genai) (0.4.1)\n",
            "Requirement already satisfied: rsa<5,>=3.1.4 in /usr/local/lib/python3.10/dist-packages (from google-auth>=2.15.0->google-generativeai<0.9.0,>=0.8.0->langchain-google-genai) (4.9)\n",
            "Requirement already satisfied: jsonpointer>=1.9 in /usr/local/lib/python3.10/dist-packages (from jsonpatch<2.0,>=1.33->langchain-core<0.4,>=0.3.15->langchain-google-genai) (3.0.0)\n",
            "Requirement already satisfied: httpx<1,>=0.23.0 in /usr/local/lib/python3.10/dist-packages (from langsmith<0.3,>=0.1.125->langchain-core<0.4,>=0.3.15->langchain-google-genai) (0.27.2)\n",
            "Requirement already satisfied: orjson<4.0.0,>=3.9.14 in /usr/local/lib/python3.10/dist-packages (from langsmith<0.3,>=0.1.125->langchain-core<0.4,>=0.3.15->langchain-google-genai) (3.10.12)\n",
            "Requirement already satisfied: requests-toolbelt<2.0.0,>=1.0.0 in /usr/local/lib/python3.10/dist-packages (from langsmith<0.3,>=0.1.125->langchain-core<0.4,>=0.3.15->langchain-google-genai) (1.0.0)\n",
            "Requirement already satisfied: httplib2<1.dev0,>=0.19.0 in /usr/local/lib/python3.10/dist-packages (from google-api-python-client->google-generativeai<0.9.0,>=0.8.0->langchain-google-genai) (0.22.0)\n",
            "Requirement already satisfied: google-auth-httplib2<1.0.0,>=0.2.0 in /usr/local/lib/python3.10/dist-packages (from google-api-python-client->google-generativeai<0.9.0,>=0.8.0->langchain-google-genai) (0.2.0)\n",
            "Requirement already satisfied: uritemplate<5,>=3.0.1 in /usr/local/lib/python3.10/dist-packages (from google-api-python-client->google-generativeai<0.9.0,>=0.8.0->langchain-google-genai) (4.1.1)\n",
            "Requirement already satisfied: grpcio<2.0dev,>=1.33.2 in /usr/local/lib/python3.10/dist-packages (from google-api-core[grpc]!=2.0.*,!=2.1.*,!=2.10.*,!=2.2.*,!=2.3.*,!=2.4.*,!=2.5.*,!=2.6.*,!=2.7.*,!=2.8.*,!=2.9.*,<3.0.0dev,>=1.34.1->google-ai-generativelanguage==0.6.10->google-generativeai<0.9.0,>=0.8.0->langchain-google-genai) (1.68.1)\n",
            "Requirement already satisfied: grpcio-status<2.0.dev0,>=1.33.2 in /usr/local/lib/python3.10/dist-packages (from google-api-core[grpc]!=2.0.*,!=2.1.*,!=2.10.*,!=2.2.*,!=2.3.*,!=2.4.*,!=2.5.*,!=2.6.*,!=2.7.*,!=2.8.*,!=2.9.*,<3.0.0dev,>=1.34.1->google-ai-generativelanguage==0.6.10->google-generativeai<0.9.0,>=0.8.0->langchain-google-genai) (1.62.3)\n",
            "Requirement already satisfied: pyparsing!=3.0.0,!=3.0.1,!=3.0.2,!=3.0.3,<4,>=2.4.2 in /usr/local/lib/python3.10/dist-packages (from httplib2<1.dev0,>=0.19.0->google-api-python-client->google-generativeai<0.9.0,>=0.8.0->langchain-google-genai) (3.2.0)\n",
            "Requirement already satisfied: anyio in /usr/local/lib/python3.10/dist-packages (from httpx<1,>=0.23.0->langsmith<0.3,>=0.1.125->langchain-core<0.4,>=0.3.15->langchain-google-genai) (3.7.1)\n",
            "Requirement already satisfied: certifi in /usr/local/lib/python3.10/dist-packages (from httpx<1,>=0.23.0->langsmith<0.3,>=0.1.125->langchain-core<0.4,>=0.3.15->langchain-google-genai) (2024.12.14)\n",
            "Requirement already satisfied: httpcore==1.* in /usr/local/lib/python3.10/dist-packages (from httpx<1,>=0.23.0->langsmith<0.3,>=0.1.125->langchain-core<0.4,>=0.3.15->langchain-google-genai) (1.0.7)\n",
            "Requirement already satisfied: idna in /usr/local/lib/python3.10/dist-packages (from httpx<1,>=0.23.0->langsmith<0.3,>=0.1.125->langchain-core<0.4,>=0.3.15->langchain-google-genai) (3.10)\n",
            "Requirement already satisfied: sniffio in /usr/local/lib/python3.10/dist-packages (from httpx<1,>=0.23.0->langsmith<0.3,>=0.1.125->langchain-core<0.4,>=0.3.15->langchain-google-genai) (1.3.1)\n",
            "Requirement already satisfied: h11<0.15,>=0.13 in /usr/local/lib/python3.10/dist-packages (from httpcore==1.*->httpx<1,>=0.23.0->langsmith<0.3,>=0.1.125->langchain-core<0.4,>=0.3.15->langchain-google-genai) (0.14.0)\n",
            "Requirement already satisfied: pyasn1<0.7.0,>=0.4.6 in /usr/local/lib/python3.10/dist-packages (from pyasn1-modules>=0.2.1->google-auth>=2.15.0->google-generativeai<0.9.0,>=0.8.0->langchain-google-genai) (0.6.1)\n",
            "Requirement already satisfied: charset-normalizer<4,>=2 in /usr/local/lib/python3.10/dist-packages (from requests<3.0.0.dev0,>=2.18.0->google-api-core->google-generativeai<0.9.0,>=0.8.0->langchain-google-genai) (3.4.0)\n",
            "Requirement already satisfied: urllib3<3,>=1.21.1 in /usr/local/lib/python3.10/dist-packages (from requests<3.0.0.dev0,>=2.18.0->google-api-core->google-generativeai<0.9.0,>=0.8.0->langchain-google-genai) (2.2.3)\n",
            "Requirement already satisfied: exceptiongroup in /usr/local/lib/python3.10/dist-packages (from anyio->httpx<1,>=0.23.0->langsmith<0.3,>=0.1.125->langchain-core<0.4,>=0.3.15->langchain-google-genai) (1.2.2)\n"
          ]
        }
      ]
    },
    {
      "cell_type": "markdown",
      "source": [
        "### **Step 2: Retrieving Google API key from a secure location in Google Colab environment and assigning it to the GOOGLE_API_KEY variable for later use**"
      ],
      "metadata": {
        "id": "hABGQq1amLiv"
      }
    },
    {
      "cell_type": "code",
      "source": [
        "import os\n",
        "from google.colab import userdata\n",
        "\n",
        "GOOGLE_API_KEY=userdata.get('GOOGLE_API_KEY')"
      ],
      "metadata": {
        "id": "isEvURisQWhB"
      },
      "execution_count": 43,
      "outputs": []
    },
    {
      "cell_type": "markdown",
      "source": [
        "### **Step 3: Using the Gemini 2.0 Flash Exp AI model for this task.\" This model will likely be used for generating text or responding to prompts in subsequent parts of code**"
      ],
      "metadata": {
        "id": "-Td6LG9Lm-2n"
      }
    },
    {
      "cell_type": "code",
      "source": [
        "from langchain_google_genai import ChatGoogleGenerativeAI\n",
        "\n",
        "llm = ChatGoogleGenerativeAI(\n",
        "    model=\"gemini-2.0-flash-exp\",\n",
        "    temperature=0.7)\n",
        "llm.invoke(\"Sing a ballad of LangChain.\")"
      ],
      "metadata": {
        "colab": {
          "base_uri": "https://localhost:8080/"
        },
        "id": "rw87AlzPQjJo",
        "outputId": "07aef4ed-d58f-4438-f76f-0bf0dad72c9f"
      },
      "execution_count": 45,
      "outputs": [
        {
          "output_type": "execute_result",
          "data": {
            "text/plain": [
              "AIMessage(content=\"(Verse 1)\\nIn realms of code, where data streams flow,\\nA framework arose, a vibrant glow.\\nLangChain it's called, a name whispered low,\\nTo bridge the gap, where knowledge does grow.\\nFrom language models, vast and grand,\\nTo tasks complex, across the land,\\nIt weaves a path, with skillful hand,\\nA symphony of logic, close at hand.\\n\\n(Verse 2)\\nWith agents clever, and tools so bright,\\nIt navigates the dark, to find the light.\\nFrom text to code, with all its might,\\nIt crafts solutions, day and night.\\nA chain of thought, a reasoning flow,\\nEach step a link, where insights grow.\\nFrom summarization, to questions we know,\\nLangChain's power, starts to show.\\n\\n(Verse 3)\\nThe documents whisper, of wisdom old,\\nTransformed by LangChain, stories unfold.\\nFrom vector databases, brave and bold,\\nIt retrieves the answers, as they're told.\\nWith prompt engineering, sharp and keen,\\nIt guides the models, to what is seen.\\nA collaborative effort, ever so keen,\\nTo unlock the potential, that lies within.\\n\\n(Verse 4)\\nThrough complex queries, it finds its way,\\nA labyrinth of data, come what may.\\nFrom chatbots charming, to tasks of the day,\\nLangChain excels, in every play.\\nA growing community, by its side,\\nSharing knowledge, with open stride.\\nBuilding together, with purpose and pride,\\nThe future of AI, where dreams reside.\\n\\n(Verse 5)\\nSo sing the ballad, of LangChain's grace,\\nA tool for progress, setting the pace.\\nA bridge between worlds, in time and space,\\nIt empowers us all, with its embrace.\\nFrom simple tasks, to challenges grand,\\nLangChain stands ready, to lend a hand.\\nA marvel of coding, across the land,\\nThe future is bright, with LangChain planned.\\n\\n(Outro)\\nAnd as the code hums, a gentle song,\\nLangChain's journey, continues strong.\\nA framework for the future, where we all belong,\\nSo let its power, forever prolong.\\n\", additional_kwargs={}, response_metadata={'prompt_feedback': {'block_reason': 0, 'safety_ratings': []}, 'finish_reason': 'STOP', 'safety_ratings': [{'category': 'HARM_CATEGORY_HATE_SPEECH', 'probability': 'NEGLIGIBLE', 'blocked': False}, {'category': 'HARM_CATEGORY_DANGEROUS_CONTENT', 'probability': 'NEGLIGIBLE', 'blocked': False}, {'category': 'HARM_CATEGORY_HARASSMENT', 'probability': 'NEGLIGIBLE', 'blocked': False}, {'category': 'HARM_CATEGORY_SEXUALLY_EXPLICIT', 'probability': 'NEGLIGIBLE', 'blocked': False}]}, id='run-1839ea7d-6626-4a5a-a8fa-76a28d722196-0', usage_metadata={'input_tokens': 8, 'output_tokens': 483, 'total_tokens': 491, 'input_token_details': {'cache_read': 0}})"
            ]
          },
          "metadata": {},
          "execution_count": 45
        }
      ]
    },
    {
      "cell_type": "markdown",
      "source": [
        "### **Step 4: Define a template that structures prompts in the following way:**"
      ],
      "metadata": {
        "id": "zs08vUxMnt6u"
      }
    },
    {
      "cell_type": "markdown",
      "source": [
        "This makes it easier to send consistent and well-formatted instructions to the language model, varying only the specific question being asked."
      ],
      "metadata": {
        "id": "IYIfxAIun5l0"
      }
    },
    {
      "cell_type": "code",
      "source": [
        "prompt_template = PromptTemplate(\n",
        "    input_variables=[\"question\"],\n",
        "    template=\"You are a helpful assistant. Answer the following question:\\n\\n{question}\"\n",
        ")"
      ],
      "metadata": {
        "id": "qsq0qNdpR4gp"
      },
      "execution_count": 55,
      "outputs": []
    },
    {
      "cell_type": "markdown",
      "source": [
        "### **Step 5: Setting up a system to easily ask questions to a Google Gemini language model.**"
      ],
      "metadata": {
        "id": "5qNHKI0doyx-"
      }
    },
    {
      "cell_type": "markdown",
      "source": [
        "The LLMChain acts like a pipeline: it takes your question, formats it using the prompt_template, sends it to the Gemini model (llm), and then gives you the model's response."
      ],
      "metadata": {
        "id": "xi7cqBaYoTkG"
      }
    },
    {
      "cell_type": "code",
      "source": [
        "from langchain.chains import LLMChain\n",
        "# Create the LLM chain\n",
        "chain = LLMChain(llm=llm, prompt=prompt_template)"
      ],
      "metadata": {
        "id": "-ueZ_crVSMUx"
      },
      "execution_count": 54,
      "outputs": []
    },
    {
      "cell_type": "markdown",
      "source": [
        "### **Step 6: Send the question to the language model using the predefined chain and template.**"
      ],
      "metadata": {
        "id": "yI-Dldtsp56z"
      }
    },
    {
      "cell_type": "code",
      "source": [
        "# Run the chain with a sample question\n",
        "question = \"What is LangChain?\"\n",
        "\n",
        "# Store the model's answer.\n",
        "response = chain.invoke({\"question\": question})\n",
        "\n",
        "print(\"Answer:\", response)"
      ],
      "metadata": {
        "colab": {
          "base_uri": "https://localhost:8080/"
        },
        "id": "ianBCUJfaybC",
        "outputId": "76265bbb-981b-419d-b26c-4193b0bb7642"
      },
      "execution_count": 58,
      "outputs": [
        {
          "output_type": "stream",
          "name": "stdout",
          "text": [
            "Answer: {'question': 'What is LangChain?', 'text': 'LangChain is a framework designed to make it easier to develop applications powered by large language models (LLMs). Think of it as a toolkit that provides the building blocks and infrastructure needed to connect LLMs to other data sources and tools, allowing you to create more complex and powerful AI applications.\\n\\nHere\\'s a breakdown of what makes LangChain useful:\\n\\n**Key Features and Benefits:**\\n\\n* **Data Connection:** LangChain simplifies the process of connecting LLMs to various data sources. This includes:\\n    * **Document Loaders:** Loading data from various file formats (PDFs, text files, websites, etc.).\\n    * **Vector Stores:** Storing and retrieving data efficiently using vector embeddings (numerical representations of text).\\n    * **APIs:** Interacting with external APIs to retrieve real-time information or perform actions.\\n* **Chains:** LangChain allows you to create sequences of actions, linking different components together to achieve complex tasks. This is often referred to as \"chaining\" prompts, tools, and data sources.\\n* **Agents:** Agents are a special type of chain that can decide which actions to take based on the input. They can use tools and data sources to answer questions, solve problems, or perform tasks autonomously.\\n* **Memory:** LangChain provides mechanisms for LLMs to remember previous interactions and maintain context within a conversation or task.\\n* **Flexibility and Modularity:** LangChain is designed to be modular, meaning you can easily swap out different components or integrate it with other libraries.\\n* **Abstraction:** LangChain abstracts away some of the complexities of working directly with LLMs, making it easier to build applications without needing deep expertise in machine learning.\\n* **Community and Ecosystem:** LangChain has a vibrant and growing community, which means there\\'s a lot of support and resources available.\\n\\n**Think of LangChain as the glue that connects these things:**\\n\\n* **Large Language Models (LLMs):** The core AI engine (e.g., GPT-3, LLaMA, etc.).\\n* **External Data:** Your knowledge base, databases, APIs, etc.\\n* **Tools:** Functions that allow the LLM to interact with the outside world (e.g., search engines, calculators, etc.).\\n* **Users:** The people or applications interacting with the final product.\\n\\n**In essence, LangChain helps you build applications that can:**\\n\\n* **Answer questions over your own data.**\\n* **Summarize documents and articles.**\\n* **Automate tasks using natural language.**\\n* **Create conversational AI agents.**\\n* **Build personalized experiences.**\\n\\n**Who is it for?**\\n\\n* Developers interested in building AI-powered applications.\\n* Researchers exploring the capabilities of LLMs.\\n* Data scientists looking for ways to integrate LLMs into their workflows.\\n\\n**In short, LangChain is a powerful framework that simplifies the development of complex applications leveraging the power of large language models by providing a set of tools and abstractions for connecting LLMs to data, tools, and other components.**\\n'}\n"
          ]
        }
      ]
    }
  ]
}